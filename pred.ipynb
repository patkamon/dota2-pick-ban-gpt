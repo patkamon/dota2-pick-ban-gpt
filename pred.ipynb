{
 "cells": [
  {
   "cell_type": "code",
   "execution_count": 1,
   "metadata": {},
   "outputs": [],
   "source": [
    "import torch\n",
    "import torch.nn as nn\n",
    "from torch.nn import functional as F"
   ]
  },
  {
   "cell_type": "code",
   "execution_count": 39,
   "metadata": {},
   "outputs": [
    {
     "data": {
      "text/plain": [
       "<torch._C.Generator at 0x7fe852de6ab0>"
      ]
     },
     "execution_count": 39,
     "metadata": {},
     "output_type": "execute_result"
    }
   ],
   "source": [
    "# hyperparameters\n",
    "batch_size = 16 # how many independent sequences will we process in parallel?\n",
    "block_size = 48 # what is the maximum context length for predictions?\n",
    "max_iters = 20_000\n",
    "eval_interval = 100\n",
    "learning_rate = 1e-3\n",
    "device = 'cuda' if torch.cuda.is_available() else 'cpu'\n",
    "eval_iters = 200\n",
    "n_embd = 64\n",
    "n_head = 4\n",
    "n_layer = 4\n",
    "dropout = 0.0\n",
    "# ------------\n",
    "\n",
    "torch.manual_seed(1337)\n"
   ]
  },
  {
   "cell_type": "code",
   "execution_count": 40,
   "metadata": {},
   "outputs": [],
   "source": [
    "\n",
    "\n",
    "# data loading\n",
    "def get_batch(split):\n",
    "    # generate a small batch of data of inputs x and targets y\n",
    "    data = train_data if split == 'train' else val_data\n",
    "    ix = torch.randint(len(data) - block_size, (batch_size,))\n",
    "    x = torch.stack([data[i:i+block_size] for i in ix])\n",
    "    y = torch.stack([data[i+1:i+block_size+1] for i in ix])\n",
    "    x, y = x.to(device), y.to(device)\n",
    "    return x, y\n",
    "\n",
    "@torch.no_grad()\n",
    "def estimate_loss():\n",
    "    out = {}\n",
    "    model.eval()\n",
    "    for split in ['train', 'val']:\n",
    "        losses = torch.zeros(eval_iters)\n",
    "        for k in range(eval_iters):\n",
    "            X, Y = get_batch(split)\n",
    "            logits, loss = model(X, Y)\n",
    "            losses[k] = loss.item()\n",
    "        out[split] = losses.mean()\n",
    "    model.train()\n",
    "    return out\n",
    "\n",
    "class Head(nn.Module):\n",
    "    \"\"\" one head of self-attention \"\"\"\n",
    "\n",
    "    def __init__(self, head_size):\n",
    "        super().__init__()\n",
    "        self.key = nn.Linear(n_embd, head_size, bias=False)\n",
    "        self.query = nn.Linear(n_embd, head_size, bias=False)\n",
    "        self.value = nn.Linear(n_embd, head_size, bias=False)\n",
    "        self.register_buffer('tril', torch.tril(torch.ones(block_size, block_size)))\n",
    "\n",
    "        self.dropout = nn.Dropout(dropout)\n",
    "\n",
    "    def forward(self, x):\n",
    "        B,T,C = x.shape\n",
    "        k = self.key(x)   # (B,T,C)\n",
    "        q = self.query(x) # (B,T,C)\n",
    "        # compute attention scores (\"affinities\")\n",
    "        wei = q @ k.transpose(-2,-1) * C**-0.5 # (B, T, C) @ (B, C, T) -> (B, T, T)\n",
    "        wei = wei.masked_fill(self.tril[:T, :T] == 0, float('-inf')) # (B, T, T)\n",
    "        wei = F.softmax(wei, dim=-1) # (B, T, T)\n",
    "        wei = self.dropout(wei)\n",
    "        # perform the weighted aggregation of the values\n",
    "        v = self.value(x) # (B,T,C)\n",
    "        out = wei @ v # (B, T, T) @ (B, T, C) -> (B, T, C)\n",
    "        return out\n",
    "\n",
    "class MultiHeadAttention(nn.Module):\n",
    "    \"\"\" multiple heads of self-attention in parallel \"\"\"\n",
    "\n",
    "    def __init__(self, num_heads, head_size):\n",
    "        super().__init__()\n",
    "        self.heads = nn.ModuleList([Head(head_size) for _ in range(num_heads)])\n",
    "        self.proj = nn.Linear(n_embd, n_embd)\n",
    "        self.dropout = nn.Dropout(dropout)\n",
    "\n",
    "    def forward(self, x):\n",
    "        out = torch.cat([h(x) for h in self.heads], dim=-1)\n",
    "        out = self.dropout(self.proj(out))\n",
    "        return out\n",
    "\n",
    "class FeedFoward(nn.Module):\n",
    "    \"\"\" a simple linear layer followed by a non-linearity \"\"\"\n",
    "\n",
    "    def __init__(self, n_embd):\n",
    "        super().__init__()\n",
    "        self.net = nn.Sequential(\n",
    "            nn.Linear(n_embd, 4 * n_embd),\n",
    "            nn.ReLU(),\n",
    "            nn.Linear(4 * n_embd, n_embd),\n",
    "            nn.Dropout(dropout),\n",
    "        )\n",
    "\n",
    "    def forward(self, x):\n",
    "        return self.net(x)\n",
    "\n",
    "class Block(nn.Module):\n",
    "    \"\"\" Transformer block: communication followed by computation \"\"\"\n",
    "\n",
    "    def __init__(self, n_embd, n_head):\n",
    "        # n_embd: embedding dimension, n_head: the number of heads we'd like\n",
    "        super().__init__()\n",
    "        head_size = n_embd // n_head\n",
    "        self.sa = MultiHeadAttention(n_head, head_size)\n",
    "        self.ffwd = FeedFoward(n_embd)\n",
    "        self.ln1 = nn.LayerNorm(n_embd)\n",
    "        self.ln2 = nn.LayerNorm(n_embd)\n",
    "\n",
    "    def forward(self, x):\n",
    "        x = x + self.sa(self.ln1(x))\n",
    "        x = x + self.ffwd(self.ln2(x))\n",
    "        return x\n",
    "\n",
    "def sort_index(lst, rev=True):\n",
    "    index = range(len(lst))\n",
    "    s = sorted(index, reverse=rev, key=lambda i: lst[i])\n",
    "    return s\n",
    "\n",
    "\n",
    "# super simple bigram model\n",
    "class BigramLanguageModel(nn.Module):\n",
    "\n",
    "    def __init__(self):\n",
    "        super().__init__()\n",
    "        # each token directly reads off the logits for the next token from a lookup table\n",
    "        self.token_embedding_table = nn.Embedding(vocab_size, n_embd)\n",
    "        self.position_embedding_table = nn.Embedding(block_size, n_embd)\n",
    "        self.blocks = nn.Sequential(*[Block(n_embd, n_head=n_head) for _ in range(n_layer)])\n",
    "        self.ln_f = nn.LayerNorm(n_embd) # final layer norm\n",
    "        self.lm_head = nn.Linear(n_embd, vocab_size)\n",
    "\n",
    "    def forward(self, idx, targets=None):\n",
    "        B, T = idx.shape\n",
    "\n",
    "        # idx and targets are both (B,T) tensor of integers\n",
    "        tok_emb = self.token_embedding_table(idx) # (B,T,C)\n",
    "        pos_emb = self.position_embedding_table(torch.arange(T, device=device)) # (T,C)\n",
    "        x = tok_emb + pos_emb # (B,T,C)\n",
    "        x = self.blocks(x) # (B,T,C)\n",
    "        x = self.ln_f(x) # (B,T,C)\n",
    "        logits = self.lm_head(x) # (B,T,vocab_size)\n",
    "\n",
    "        if targets is None:\n",
    "            loss = None\n",
    "        else:\n",
    "            B, T, C = logits.shape\n",
    "            logits = logits.view(B*T, C)\n",
    "            targets = targets.view(B*T)\n",
    "            loss = F.cross_entropy(logits, targets)\n",
    "\n",
    "        return logits, loss\n",
    "\n",
    "    def generate(self, idx, max_new_tokens):\n",
    "        # idx is (B, T) array of indices in the current context\n",
    "        for _ in range(max_new_tokens):\n",
    "            # crop idx to the last block_size tokens\n",
    "            idx_cond = idx[:, -block_size:]\n",
    "            # get the predictions\n",
    "            logits, loss = self(idx_cond)\n",
    "            # focus only on the last time step\n",
    "            logits = logits[:, -1, :] # becomes (B, C)\n",
    "\n",
    "            # apply softmax to get probabilities\n",
    "            probs = F.softmax(logits, dim=-1) # (B, C)\n",
    "\n",
    "            p = probs.tolist()[0]\n",
    "            ls = sort_index(p)[:10]\n",
    "            for i in ls:\n",
    "              print(p[i],\"%.  \", decode([i]))\n",
    "\n",
    "            # sample from the distribution\n",
    "            idx_next = torch.multinomial(probs, num_samples=1) # (B, 1)\n",
    "            print(\"next========================\")\n",
    "            # append sampled index to the running sequence\n",
    "            idx = torch.cat((idx, idx_next), dim=1) # (B, T+1)\n",
    "        return idx"
   ]
  },
  {
   "cell_type": "code",
   "execution_count": 41,
   "metadata": {},
   "outputs": [],
   "source": [
    "with open('pick-ban.txt', 'r', encoding='utf-8') as f:\n",
    "    text = f.read()"
   ]
  },
  {
   "cell_type": "code",
   "execution_count": 46,
   "metadata": {},
   "outputs": [
    {
     "name": "stdout",
     "output_type": "stream",
     "text": [
      "{'', 'Visage', 'Axe', 'Nyx Assassin', 'Gyrocopter', 'Naga Siren', 'Sand King', 'Terrorblade', 'Dark Willow', 'Bloodseeker', 'Ogre Magi', 'Weaver', 'Bristleback', 'Muerta', 'Queen of Pain', 'Templar Assassin', 'Skywrath Mage', 'Death Prophet', 'Arc Warden', 'Clinkz', \"Nature's Prophet\", 'Invoker', ' ', 'Rubick', 'Night Stalker', 'Meepo', 'Slardar', 'Chen', 'Mirana', 'Leshrac', 'Juggernaut', 'Abaddon', 'Luna', 'Riki', 'Shadow Shaman', 'Pugna', 'Undying', 'Treant Protector', 'Centaur Warrunner', 'Broodmother', 'Dazzle', 'Pangolier', 'Omniknight', 'Underlord', 'Shadow Fiend', '/', 'Doom', 'Razor', 'Lifestealer', 'Spectre', 'Puck', 'Outworld Destroyer', 'Ursa', 'Void Spirit', 'Lich', 'Timbersaw', 'Silencer', 'Dark Seer', 'Beastmaster', 'Anti-Mage', 'Storm Spirit', '\\n', 'Earthshaker', 'Jakiro', 'Ember Spirit', 'Earth Spirit', 'Disruptor', 'Kunkka', 'Tusk', 'Phantom Lancer', 'Dragon Knight', 'Phoenix', 'Ancient Apparition', 'Huskar', 'Drow Ranger', 'Sven', 'Tinker', 'Magnus', 'Clockwerk', 'Vengeful Spirit', 'Lion', 'Hoodwink', 'Monkey King', 'Medusa', 'Tiny', 'Warlock', 'Faceless Void', 'Io', 'Grimstroke', 'Enchantress', 'Windranger', 'Keeper of the Light', 'Pudge', 'Bounty Hunter', 'Sniper', 'Morphling', 'Crystal Maiden', 'Primal Beast', 'Necrophos', 'Batrider', 'Venomancer', 'Witch Doctor', 'Shadow Demon', 'Phantom Assassin', 'Elder Titan', 'Enigma', 'Lina', 'Zeus', 'Marci', 'Viper', 'Slark', 'Legion Commander', 'Chaos Knight', 'Techies', 'Dawnbreaker', 'Wraith King', 'Oracle', 'Brewmaster', 'Winter Wyvern', 'Lycan', 'Bane', 'Alchemist', 'Tidehunter', 'Spirit Breaker', 'Troll Warlord', 'Mars', 'Lone Druid', 'Snapfire'}\n",
      "128\n",
      "128 128\n"
     ]
    }
   ],
   "source": [
    "import json\n",
    "\n",
    "with open('hero.json', 'r') as file:\n",
    "    dic = json.load(file)\n",
    "\n",
    "\n",
    "\n",
    "# here are all the unique characters that occur in this text\n",
    "chars = set([\"\", \"/\", \"\\n\", \" \"])\n",
    "chars.update(dic.values())\n",
    "\n",
    "\n",
    "print(chars)\n",
    "\n",
    "vocab_size = len(chars)\n",
    "print(vocab_size)\n",
    "# create a mapping from characters to integers\n",
    "\n",
    "\n",
    "\n",
    "stoi = { ch:i for i,ch in enumerate(chars) }\n",
    "itos = { i:ch for i,ch in enumerate(chars) }\n",
    "\n",
    "print(len(stoi), len(itos))\n",
    "\n",
    "def encode(s):\n",
    "  ans = []\n",
    "  s = s.split(\"/\")\n",
    "  for i in s:\n",
    "    i = i.split(\"\\n\")\n",
    "    for j in i:\n",
    "      ans.append(stoi[j])\n",
    "    ans.append(stoi[\" \"])\n",
    "  return ans\n",
    "\n",
    "\n",
    "# encode = lambda s: [stoi[c+\" \"] for c in s.split(\" \")] # encoder: take a string, output a list of integers\n",
    "decode = lambda l: ''.join([itos[i] for i in l]) # decoder: take a list of integers, output a string\n",
    "\n",
    "# Train and test splits\n",
    "data = torch.tensor(encode(text), dtype=torch.long)\n",
    "n = int(0.9*len(data)) # first 90% will be train, rest val\n",
    "train_data = data[:n]\n",
    "val_data = data[n:]"
   ]
  },
  {
   "cell_type": "code",
   "execution_count": 44,
   "metadata": {},
   "outputs": [
    {
     "name": "stdout",
     "output_type": "stream",
     "text": [
      "0.21888 M parameters\n"
     ]
    }
   ],
   "source": [
    "model = BigramLanguageModel()\n",
    "m = model.to(device)\n",
    "# print the number of parameters in the model\n",
    "print(sum(p.numel() for p in m.parameters())/1e6, 'M parameters')\n",
    "\n",
    "# create a PyTorch optimizer\n",
    "optimizer = torch.optim.AdamW(model.parameters(), lr=learning_rate)\n"
   ]
  },
  {
   "cell_type": "code",
   "execution_count": null,
   "metadata": {},
   "outputs": [],
   "source": [
    "for iter in range(max_iters):\n",
    "\n",
    "    # every once in a while evaluate the loss on train and val sets\n",
    "    if iter % eval_interval == 0 or iter == max_iters - 1:\n",
    "        losses = estimate_loss()\n",
    "        print(f\"step {iter}: train loss {losses['train']:.4f}, val loss {losses['val']:.4f}\")\n",
    "\n",
    "    # sample a batch of data\n",
    "    xb, yb = get_batch('train')\n",
    "\n",
    "    # evaluate the loss\n",
    "    logits, loss = model(xb, yb)\n",
    "    optimizer.zero_grad(set_to_none=True)\n",
    "    loss.backward()\n",
    "    optimizer.step()"
   ]
  },
  {
   "cell_type": "code",
   "execution_count": 26,
   "metadata": {},
   "outputs": [
    {
     "data": {
      "text/plain": [
       "[44, 22, 82, 22]"
      ]
     },
     "execution_count": 26,
     "metadata": {},
     "output_type": "execute_result"
    }
   ],
   "source": [
    "encode(\"Shadow Fiend/Monkey King\")"
   ]
  },
  {
   "cell_type": "code",
   "execution_count": 30,
   "metadata": {},
   "outputs": [
    {
     "data": {
      "text/plain": [
       "'Monkey King Shadow Fiend '"
      ]
     },
     "execution_count": 30,
     "metadata": {},
     "output_type": "execute_result"
    }
   ],
   "source": [
    "li = [82, 22, 44, 22]\n",
    "decode(li)"
   ]
  },
  {
   "cell_type": "code",
   "execution_count": 31,
   "metadata": {},
   "outputs": [],
   "source": [
    "a_list = [li]\n",
    "a_tensor = torch.Tensor(a_list).to(torch.int64)"
   ]
  },
  {
   "cell_type": "code",
   "execution_count": 32,
   "metadata": {},
   "outputs": [
    {
     "name": "stdout",
     "output_type": "stream",
     "text": [
      "0.027662742882966995 %.   Pangolier\n",
      "0.026198718696832657 %.   Beastmaster\n",
      "0.024258002638816833 %.   Rubick\n",
      "0.021582530811429024 %.   Batrider\n",
      "0.02136886492371559 %.   Doom\n",
      "0.020801685750484467 %.   Ember Spirit\n",
      "0.019552594050765038 %.   Timbersaw\n",
      "0.019277073442935944 %.   Puck\n",
      "0.019072415307164192 %.   Templar Assassin\n",
      "0.01889931783080101 %.   Enchantress\n",
      "next========================\n",
      "0.9653089046478271 %.    \n",
      "0.004370302427560091 %.   Broodmother\n",
      "0.002810270059853792 %.   Chen\n",
      "0.0017186816548928618 %.   Doom\n",
      "0.0016359263099730015 %.   Timbersaw\n",
      "0.0013558134669438004 %.   Beastmaster\n",
      "0.0011690674582496285 %.   Batrider\n",
      "0.0009577610762789845 %.   Medusa\n",
      "0.0008858027867972851 %.   Nature's Prophet\n",
      "0.0007694652886129916 %.   Pangolier\n",
      "next========================\n"
     ]
    }
   ],
   "source": [
    "check = m.generate(a_tensor, max_new_tokens=2)"
   ]
  },
  {
   "cell_type": "code",
   "execution_count": 35,
   "metadata": {},
   "outputs": [],
   "source": [
    "torch.save(model, \"./save/model\")"
   ]
  },
  {
   "cell_type": "code",
   "execution_count": 36,
   "metadata": {},
   "outputs": [],
   "source": [
    "model_load = torch.load('./save/model')"
   ]
  },
  {
   "cell_type": "code",
   "execution_count": 37,
   "metadata": {},
   "outputs": [
    {
     "name": "stdout",
     "output_type": "stream",
     "text": [
      "0.027662742882966995 %.   Pangolier\n",
      "0.026198718696832657 %.   Beastmaster\n",
      "0.024258002638816833 %.   Rubick\n",
      "0.021582530811429024 %.   Batrider\n",
      "0.02136886492371559 %.   Doom\n",
      "0.020801685750484467 %.   Ember Spirit\n",
      "0.019552594050765038 %.   Timbersaw\n",
      "0.019277073442935944 %.   Puck\n",
      "0.019072415307164192 %.   Templar Assassin\n",
      "0.01889931783080101 %.   Enchantress\n",
      "next========================\n",
      "0.9551424384117126 %.    \n",
      "0.005794057156890631 %.   Broodmother\n",
      "0.00313160615041852 %.   Chen\n",
      "0.002244766568765044 %.   Doom\n",
      "0.0021993564441800117 %.   Timbersaw\n",
      "0.001885759993456304 %.   Beastmaster\n",
      "0.001528099412098527 %.   Batrider\n",
      "0.0011932500638067722 %.   Medusa\n",
      "0.0011105779558420181 %.   Enchantress\n",
      "0.0010643169516697526 %.   Pangolier\n",
      "next========================\n"
     ]
    }
   ],
   "source": [
    "m2 = model_load.to(device)\n",
    "check = m2.generate(a_tensor, max_new_tokens=2)"
   ]
  }
 ],
 "metadata": {
  "kernelspec": {
   "display_name": "base",
   "language": "python",
   "name": "python3"
  },
  "language_info": {
   "codemirror_mode": {
    "name": "ipython",
    "version": 3
   },
   "file_extension": ".py",
   "mimetype": "text/x-python",
   "name": "python",
   "nbconvert_exporter": "python",
   "pygments_lexer": "ipython3",
   "version": "3.8.5"
  }
 },
 "nbformat": 4,
 "nbformat_minor": 2
}
